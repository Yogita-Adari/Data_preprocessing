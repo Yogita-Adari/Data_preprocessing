{
 "cells": [
  {
   "cell_type": "code",
   "execution_count": 2,
   "id": "6b2f17f2-4dc5-49c9-8bce-ae2afce16358",
   "metadata": {},
   "outputs": [],
   "source": [
    "import pandas as pd\n",
    "from scipy.stats import chi2_contingency\n"
   ]
  },
  {
   "cell_type": "code",
   "execution_count": 4,
   "id": "ece860b4-54e3-464f-961d-d2b1d0b9dc02",
   "metadata": {},
   "outputs": [
    {
     "name": "stdout",
     "output_type": "stream",
     "text": [
      "   Gender Purchased\n",
      "0    Male       Yes\n",
      "1  Female        No\n",
      "2  Female       Yes\n",
      "3    Male       Yes\n",
      "4  Female        No\n",
      "5    Male        No\n",
      "6    Male       Yes\n",
      "7  Female        No\n"
     ]
    }
   ],
   "source": [
    "# Example Dataset\n",
    "data = {'Gender': ['Male', 'Female', 'Female', 'Male', 'Female', 'Male', 'Male', 'Female'],\n",
    "        'Purchased': ['Yes', 'No', 'Yes', 'Yes', 'No', 'No', 'Yes', 'No']}\n",
    "\n",
    "df = pd.DataFrame(data)\n",
    "print(df)\n"
   ]
  },
  {
   "cell_type": "code",
   "execution_count": 6,
   "id": "d99bc4da-0aee-471d-a529-dcfc154c096d",
   "metadata": {},
   "outputs": [
    {
     "name": "stdout",
     "output_type": "stream",
     "text": [
      "Purchased  No  Yes\n",
      "Gender            \n",
      "Female      3    1\n",
      "Male        1    3\n"
     ]
    }
   ],
   "source": [
    "# Frequency table (cross-tab)\n",
    "contingency_table = pd.crosstab(df['Gender'], df['Purchased'])\n",
    "print(contingency_table)\n"
   ]
  },
  {
   "cell_type": "code",
   "execution_count": 8,
   "id": "6f4b0526-4860-44e4-9823-c5b7df6fe790",
   "metadata": {},
   "outputs": [
    {
     "name": "stdout",
     "output_type": "stream",
     "text": [
      "Chi2 Statistic: 0.5\n",
      "P-Value: 0.47950012218695337\n",
      "Degrees of Freedom: 1\n",
      "Expected Frequencies:\n",
      "[[2. 2.]\n",
      " [2. 2.]]\n"
     ]
    }
   ],
   "source": [
    "# Chi-Square Test\n",
    "chi2, p, dof, expected = chi2_contingency(contingency_table)\n",
    "\n",
    "print(f\"Chi2 Statistic: {chi2}\")\n",
    "print(f\"P-Value: {p}\")\n",
    "print(f\"Degrees of Freedom: {dof}\")\n",
    "print(\"Expected Frequencies:\")\n",
    "print(expected)\n"
   ]
  },
  {
   "cell_type": "code",
   "execution_count": 10,
   "id": "89bbd0ed-d1c2-4778-9a16-7c6a1936a1f7",
   "metadata": {},
   "outputs": [
    {
     "name": "stdout",
     "output_type": "stream",
     "text": [
      "Fail to Reject Null: No significant association\n"
     ]
    }
   ],
   "source": [
    "# Common significance level\n",
    "alpha = 0.05\n",
    "\n",
    "if p < alpha:\n",
    "    print(\"Reject Null Hypothesis: Association exists (possible redundancy)\")\n",
    "else:\n",
    "    print(\"Fail to Reject Null: No significant association\")\n"
   ]
  },
  {
   "cell_type": "code",
   "execution_count": null,
   "id": "61ae6982-dee1-458e-aa34-c50466ac2c63",
   "metadata": {},
   "outputs": [],
   "source": []
  }
 ],
 "metadata": {
  "kernelspec": {
   "display_name": "Python (venv)",
   "language": "python",
   "name": "venv"
  },
  "language_info": {
   "codemirror_mode": {
    "name": "ipython",
    "version": 3
   },
   "file_extension": ".py",
   "mimetype": "text/x-python",
   "name": "python",
   "nbconvert_exporter": "python",
   "pygments_lexer": "ipython3",
   "version": "3.12.7"
  }
 },
 "nbformat": 4,
 "nbformat_minor": 5
}
